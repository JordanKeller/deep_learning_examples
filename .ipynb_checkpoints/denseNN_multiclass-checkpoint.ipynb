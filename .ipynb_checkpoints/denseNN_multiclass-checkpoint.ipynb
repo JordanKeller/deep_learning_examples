{
 "cells": [
  {
   "cell_type": "code",
   "execution_count": 1,
   "metadata": {
    "scrolled": true
   },
   "outputs": [
    {
     "name": "stderr",
     "output_type": "stream",
     "text": [
      "Using TensorFlow backend.\n"
     ]
    }
   ],
   "source": [
    "import keras"
   ]
  },
  {
   "cell_type": "code",
   "execution_count": 2,
   "metadata": {},
   "outputs": [],
   "source": [
    "from keras.datasets import reuters"
   ]
  },
  {
   "cell_type": "markdown",
   "metadata": {},
   "source": [
    "Loaded reuters dataset consisting of 11228 news articles, split into 8982 training samples and 2246 test samples. The input is a news article with words mapped to their relative frequency, and the output is a class label between 0 and 45 indicating the news topic. "
   ]
  },
  {
   "cell_type": "code",
   "execution_count": 3,
   "metadata": {},
   "outputs": [],
   "source": [
    "(train_inputs, train_outputs), (test_inputs, test_outputs) = reuters.load_data()"
   ]
  },
  {
   "cell_type": "code",
   "execution_count": 4,
   "metadata": {},
   "outputs": [
    {
     "data": {
      "text/plain": [
       "(8982,)"
      ]
     },
     "execution_count": 4,
     "metadata": {},
     "output_type": "execute_result"
    }
   ],
   "source": [
    "train_inputs.shape"
   ]
  },
  {
   "cell_type": "code",
   "execution_count": 5,
   "metadata": {},
   "outputs": [
    {
     "data": {
      "text/plain": [
       "(2246,)"
      ]
     },
     "execution_count": 5,
     "metadata": {},
     "output_type": "execute_result"
    }
   ],
   "source": [
    "test_inputs.shape"
   ]
  },
  {
   "cell_type": "code",
   "execution_count": 6,
   "metadata": {},
   "outputs": [
    {
     "data": {
      "text/plain": [
       "[1,\n",
       " 27595,\n",
       " 28842,\n",
       " 8,\n",
       " 43,\n",
       " 10,\n",
       " 447,\n",
       " 5,\n",
       " 25,\n",
       " 207,\n",
       " 270,\n",
       " 5,\n",
       " 3095,\n",
       " 111,\n",
       " 16,\n",
       " 369,\n",
       " 186,\n",
       " 90,\n",
       " 67,\n",
       " 7,\n",
       " 89,\n",
       " 5,\n",
       " 19,\n",
       " 102,\n",
       " 6,\n",
       " 19,\n",
       " 124,\n",
       " 15,\n",
       " 90,\n",
       " 67,\n",
       " 84,\n",
       " 22,\n",
       " 482,\n",
       " 26,\n",
       " 7,\n",
       " 48,\n",
       " 4,\n",
       " 49,\n",
       " 8,\n",
       " 864,\n",
       " 39,\n",
       " 209,\n",
       " 154,\n",
       " 6,\n",
       " 151,\n",
       " 6,\n",
       " 83,\n",
       " 11,\n",
       " 15,\n",
       " 22,\n",
       " 155,\n",
       " 11,\n",
       " 15,\n",
       " 7,\n",
       " 48,\n",
       " 9,\n",
       " 4579,\n",
       " 1005,\n",
       " 504,\n",
       " 6,\n",
       " 258,\n",
       " 6,\n",
       " 272,\n",
       " 11,\n",
       " 15,\n",
       " 22,\n",
       " 134,\n",
       " 44,\n",
       " 11,\n",
       " 15,\n",
       " 16,\n",
       " 8,\n",
       " 197,\n",
       " 1245,\n",
       " 90,\n",
       " 67,\n",
       " 52,\n",
       " 29,\n",
       " 209,\n",
       " 30,\n",
       " 32,\n",
       " 132,\n",
       " 6,\n",
       " 109,\n",
       " 15,\n",
       " 17,\n",
       " 12]"
      ]
     },
     "execution_count": 6,
     "metadata": {},
     "output_type": "execute_result"
    }
   ],
   "source": [
    "train_inputs[0]"
   ]
  },
  {
   "cell_type": "code",
   "execution_count": 7,
   "metadata": {},
   "outputs": [
    {
     "data": {
      "text/plain": [
       "3"
      ]
     },
     "execution_count": 7,
     "metadata": {},
     "output_type": "execute_result"
    }
   ],
   "source": [
    "train_outputs[0]"
   ]
  },
  {
   "cell_type": "code",
   "execution_count": 8,
   "metadata": {},
   "outputs": [],
   "source": [
    "import numpy as np\n",
    "DIMENSION = 10000\n",
    "\n",
    "\n",
    "def one_hot_encoding(sequences, dimension = DIMENSION):\n",
    "    result = np.zeros((len(sequences), dimension))\n",
    "    for i in range(len(sequences)):\n",
    "        for j in range(len(sequences[i])):\n",
    "            if sequences[i][j] < dimension:\n",
    "                result[i, sequences[i][j]] = 1\n",
    "    return result"
   ]
  },
  {
   "cell_type": "code",
   "execution_count": 9,
   "metadata": {},
   "outputs": [],
   "source": [
    "train_inputs = one_hot_encoding(train_inputs)\n",
    "test_inputs = one_hot_encoding(test_inputs)"
   ]
  },
  {
   "cell_type": "markdown",
   "metadata": {},
   "source": [
    "Set DIMENSION variable as the cutoff for word frequency in the input data; in our case, we consider only the 10000 most common words appearing in our inputs.\n",
    "\n",
    "Transform inputs via one-hot encoding, mapping a list of integers to a vector of length DIMENSION with values 0 or 1 at the k-th entry depending upon the absence or presence of k in our list."
   ]
  },
  {
   "cell_type": "code",
   "execution_count": 10,
   "metadata": {},
   "outputs": [
    {
     "data": {
      "text/plain": [
       "array([0., 1., 0., ..., 0., 0., 0.])"
      ]
     },
     "execution_count": 10,
     "metadata": {},
     "output_type": "execute_result"
    }
   ],
   "source": [
    "train_inputs[0]"
   ]
  },
  {
   "cell_type": "code",
   "execution_count": 11,
   "metadata": {},
   "outputs": [
    {
     "data": {
      "text/plain": [
       "0"
      ]
     },
     "execution_count": 11,
     "metadata": {},
     "output_type": "execute_result"
    }
   ],
   "source": [
    "train_outputs.min(axis = 0)"
   ]
  },
  {
   "cell_type": "code",
   "execution_count": 12,
   "metadata": {},
   "outputs": [
    {
     "data": {
      "text/plain": [
       "45"
      ]
     },
     "execution_count": 12,
     "metadata": {},
     "output_type": "execute_result"
    }
   ],
   "source": [
    "train_outputs.max(axis = 0)"
   ]
  },
  {
   "cell_type": "code",
   "execution_count": 13,
   "metadata": {},
   "outputs": [],
   "source": [
    "from keras.utils import to_categorical"
   ]
  },
  {
   "cell_type": "code",
   "execution_count": 14,
   "metadata": {},
   "outputs": [],
   "source": [
    "train_outputs = to_categorical(train_outputs)\n",
    "test_outputs = to_categorical(test_outputs)"
   ]
  },
  {
   "cell_type": "code",
   "execution_count": 15,
   "metadata": {},
   "outputs": [
    {
     "data": {
      "text/plain": [
       "array([0., 0., 0., 1., 0., 0., 0., 0., 0., 0., 0., 0., 0., 0., 0., 0., 0.,\n",
       "       0., 0., 0., 0., 0., 0., 0., 0., 0., 0., 0., 0., 0., 0., 0., 0., 0.,\n",
       "       0., 0., 0., 0., 0., 0., 0., 0., 0., 0., 0., 0.], dtype=float32)"
      ]
     },
     "execution_count": 15,
     "metadata": {},
     "output_type": "execute_result"
    }
   ],
   "source": [
    "train_outputs[0]"
   ]
  },
  {
   "cell_type": "markdown",
   "metadata": {},
   "source": [
    "Outputs are transformed using the to_categorical utility function, mapping an integral class label k to a vector of length 46 with the k-th entry set to one and the remaining entries set to zero."
   ]
  },
  {
   "cell_type": "code",
   "execution_count": 16,
   "metadata": {},
   "outputs": [],
   "source": [
    "validation_inputs = train_inputs[0 : 3000]\n",
    "reduced_train_inputs = train_inputs[3000 :]"
   ]
  },
  {
   "cell_type": "code",
   "execution_count": 17,
   "metadata": {},
   "outputs": [],
   "source": [
    "validation_outputs = train_outputs[0 : 3000]\n",
    "reduced_train_outputs = train_outputs[3000 :]"
   ]
  },
  {
   "cell_type": "markdown",
   "metadata": {},
   "source": [
    "Set aside 3000 of the 8982 training samples as a validation set. It would be better to draw this collection randomly from our training data, rather than using the sequential approach above."
   ]
  },
  {
   "cell_type": "code",
   "execution_count": 18,
   "metadata": {},
   "outputs": [],
   "source": [
    "from keras import models\n",
    "from keras import layers\n",
    "from keras import regularizers"
   ]
  },
  {
   "cell_type": "code",
   "execution_count": 19,
   "metadata": {},
   "outputs": [],
   "source": [
    "model = models.Sequential()\n",
    "model.add(layers.Dense(64, activation = 'relu', \n",
    "                       kernel_regularizer =  regularizers.l2(.001),\n",
    "                       input_shape = (DIMENSION,)))\n",
    "model.add(layers.Dense(64, activation = 'relu', \n",
    "                      kernel_regularizer= regularizers.l2(.001)))\n",
    "model.add(layers.Dense(46, activation = 'softmax'))"
   ]
  },
  {
   "cell_type": "code",
   "execution_count": 20,
   "metadata": {},
   "outputs": [],
   "source": [
    "model.compile(optimizer = 'rmsprop', \n",
    "              loss = 'categorical_crossentropy', metrics = ['accuracy'])"
   ]
  },
  {
   "cell_type": "markdown",
   "metadata": {},
   "source": [
    "Observe the softmax activation function in our final network layer, an appropriate choice for a multiclass classification model. In addition, note the use of the categorical cross-entropy loss function and the accuracy performance metric in the .compile() parameter list.  Other performance metric choices include precision and recall.\n",
    "\n",
    "To combat overfitting, we add regularization terms to the model, which add the norm-squared of layer weight terms to the loss function specified below.  We could instead reduce the network size or add drop-out terms to the network (see e.g. denseNN_binary.ipynb)."
   ]
  },
  {
   "cell_type": "code",
   "execution_count": 21,
   "metadata": {},
   "outputs": [
    {
     "name": "stdout",
     "output_type": "stream",
     "text": [
      "Train on 5982 samples, validate on 3000 samples\n",
      "Epoch 1/20\n",
      "5982/5982 [==============================] - 4s 612us/step - loss: 2.4943 - accuracy: 0.5629 - val_loss: 1.7414 - val_accuracy: 0.6763\n",
      "Epoch 2/20\n",
      "5982/5982 [==============================] - 2s 285us/step - loss: 1.3923 - accuracy: 0.7364 - val_loss: 1.4687 - val_accuracy: 0.7057\n",
      "Epoch 3/20\n",
      "5982/5982 [==============================] - 1s 243us/step - loss: 1.1041 - accuracy: 0.7966 - val_loss: 1.3306 - val_accuracy: 0.7350\n",
      "Epoch 4/20\n",
      "5982/5982 [==============================] - 1s 241us/step - loss: 0.9268 - accuracy: 0.8372 - val_loss: 1.2521 - val_accuracy: 0.7677\n",
      "Epoch 5/20\n",
      "5982/5982 [==============================] - 1s 241us/step - loss: 0.7964 - accuracy: 0.8721 - val_loss: 1.2121 - val_accuracy: 0.7833\n",
      "Epoch 6/20\n",
      "5982/5982 [==============================] - 2s 258us/step - loss: 0.7087 - accuracy: 0.8950 - val_loss: 1.2395 - val_accuracy: 0.7687\n",
      "Epoch 7/20\n",
      "5982/5982 [==============================] - 2s 297us/step - loss: 0.6355 - accuracy: 0.9107 - val_loss: 1.2150 - val_accuracy: 0.7750\n",
      "Epoch 8/20\n",
      "5982/5982 [==============================] - 2s 266us/step - loss: 0.5810 - accuracy: 0.9261 - val_loss: 1.1566 - val_accuracy: 0.7977\n",
      "Epoch 9/20\n",
      "5982/5982 [==============================] - 1s 234us/step - loss: 0.5414 - accuracy: 0.9316 - val_loss: 1.1909 - val_accuracy: 0.7860\n",
      "Epoch 10/20\n",
      "5982/5982 [==============================] - 1s 250us/step - loss: 0.5088 - accuracy: 0.9425 - val_loss: 1.2235 - val_accuracy: 0.7743\n",
      "Epoch 11/20\n",
      "5982/5982 [==============================] - 1s 233us/step - loss: 0.4857 - accuracy: 0.9458 - val_loss: 1.1698 - val_accuracy: 0.7920\n",
      "Epoch 12/20\n",
      "5982/5982 [==============================] - 1s 231us/step - loss: 0.4575 - accuracy: 0.9507 - val_loss: 1.1712 - val_accuracy: 0.7957\n",
      "Epoch 13/20\n",
      "5982/5982 [==============================] - 1s 232us/step - loss: 0.4472 - accuracy: 0.9549 - val_loss: 1.1859 - val_accuracy: 0.7890\n",
      "Epoch 14/20\n",
      "5982/5982 [==============================] - 1s 230us/step - loss: 0.4260 - accuracy: 0.9552 - val_loss: 1.1731 - val_accuracy: 0.7940\n",
      "Epoch 15/20\n",
      "5982/5982 [==============================] - 2s 254us/step - loss: 0.4127 - accuracy: 0.9587 - val_loss: 1.1826 - val_accuracy: 0.7867\n",
      "Epoch 16/20\n",
      "5982/5982 [==============================] - 2s 260us/step - loss: 0.4072 - accuracy: 0.9592 - val_loss: 1.1643 - val_accuracy: 0.7937\n",
      "Epoch 17/20\n",
      "5982/5982 [==============================] - 1s 239us/step - loss: 0.3994 - accuracy: 0.9570 - val_loss: 1.2094 - val_accuracy: 0.7873\n",
      "Epoch 18/20\n",
      "5982/5982 [==============================] - 1s 237us/step - loss: 0.3855 - accuracy: 0.9599 - val_loss: 1.2051 - val_accuracy: 0.7803\n",
      "Epoch 19/20\n",
      "5982/5982 [==============================] - 1s 233us/step - loss: 0.3806 - accuracy: 0.9604 - val_loss: 1.1795 - val_accuracy: 0.7890\n",
      "Epoch 20/20\n",
      "5982/5982 [==============================] - 1s 235us/step - loss: 0.3772 - accuracy: 0.9631 - val_loss: 1.1843 - val_accuracy: 0.7907\n"
     ]
    }
   ],
   "source": [
    "EPOCHS = 20\n",
    "\n",
    "outcome = model.fit(reduced_train_inputs, reduced_train_outputs, epochs = EPOCHS, batch_size = 256,\n",
    "         validation_data = (validation_inputs, validation_outputs))"
   ]
  },
  {
   "cell_type": "code",
   "execution_count": 22,
   "metadata": {},
   "outputs": [
    {
     "data": {
      "text/plain": [
       "dict_keys(['val_loss', 'val_accuracy', 'loss', 'accuracy'])"
      ]
     },
     "execution_count": 22,
     "metadata": {},
     "output_type": "execute_result"
    }
   ],
   "source": [
    "outcome.history.keys()"
   ]
  },
  {
   "cell_type": "code",
   "execution_count": 23,
   "metadata": {},
   "outputs": [],
   "source": [
    "epochs = range(1, EPOCHS + 1)\n",
    "accuracy = outcome.history.get('accuracy')\n",
    "val_accuracy = outcome.history.get('val_accuracy')"
   ]
  },
  {
   "cell_type": "code",
   "execution_count": 24,
   "metadata": {},
   "outputs": [],
   "source": [
    "import matplotlib.pyplot as plt"
   ]
  },
  {
   "cell_type": "code",
   "execution_count": 25,
   "metadata": {},
   "outputs": [
    {
     "data": {
      "image/png": "[encoded data removed]",
      "text/plain": [
       "<Figure size 432x288 with 1 Axes>"
      ]
     },
     "metadata": {
      "needs_background": "light"
     },
     "output_type": "display_data"
    }
   ],
   "source": [
    "plt.plot(epochs, accuracy, 'bo', label = 'Training Accuracy')\n",
    "plt.plot(epochs, val_accuracy, 'b', label = 'Validation Accuracy')\n",
    "plt.title('Training and Validation Accuracy')\n",
    "plt.xlabel('Epoch')\n",
    "plt.ylabel('Accuracy')\n",
    "plt.legend()\n",
    "plt.show()"
   ]
  },
  {
   "cell_type": "markdown",
   "metadata": {},
   "source": [
    "The plot above shows a monotonic increase in training accuracy and an increase and mild decline in validation accuracy.  This behavior can also be seen in the callbacks generated by the .fit() method above.  The model appears to be overfitting the training data as we iterate over more and more epochs.  One way to combat this overfitting is to partially train the model, halting training at an early epoch (say, the eleventh epoch).  Further steps beyond this early stopping and our earlier use of regularization include adding drop-out terms to the network (see e.g. denseNN_binary.ipynb) or decreasing the network size.  "
   ]
  }
 ],
 "metadata": {
  "kernelspec": {
   "display_name": "Python [conda env:venv] *",
   "language": "python",
   "name": "conda-env-venv-py"
  },
  "language_info": {
   "codemirror_mode": {
    "name": "ipython",
    "version": 3
   },
   "file_extension": ".py",
   "mimetype": "text/x-python",
   "name": "python",
   "nbconvert_exporter": "python",
   "pygments_lexer": "ipython3",
   "version": "3.6.3"
  }
 },
 "nbformat": 4,
 "nbformat_minor": 2
}
