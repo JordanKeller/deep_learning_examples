{
 "cells": [
  {
   "cell_type": "code",
   "execution_count": 1,
   "metadata": {
    "scrolled": true
   },
   "outputs": [
    {
     "name": "stderr",
     "output_type": "stream",
     "text": [
      "Using TensorFlow backend.\n"
     ]
    }
   ],
   "source": [
    "import keras"
   ]
  },
  {
   "cell_type": "code",
   "execution_count": 2,
   "metadata": {},
   "outputs": [],
   "source": [
    "from keras.datasets import reuters"
   ]
  },
  {
   "cell_type": "markdown",
   "metadata": {},
   "source": [
    "Loaded reuters dataset consisting of 11228 news articles, split into 8982 training samples and 2246 test samples. The input is a news article with words mapped to their relative frequency, and the output is a class label between 0 and 45 indicating the news topic. "
   ]
  },
  {
   "cell_type": "code",
   "execution_count": 3,
   "metadata": {},
   "outputs": [],
   "source": [
    "(train_inputs, train_outputs), (test_inputs, test_outputs) = reuters.load_data()"
   ]
  },
  {
   "cell_type": "code",
   "execution_count": 4,
   "metadata": {},
   "outputs": [
    {
     "data": {
      "text/plain": [
       "(8982,)"
      ]
     },
     "execution_count": 4,
     "metadata": {},
     "output_type": "execute_result"
    }
   ],
   "source": [
    "train_inputs.shape"
   ]
  },
  {
   "cell_type": "code",
   "execution_count": 5,
   "metadata": {},
   "outputs": [
    {
     "data": {
      "text/plain": [
       "(2246,)"
      ]
     },
     "execution_count": 5,
     "metadata": {},
     "output_type": "execute_result"
    }
   ],
   "source": [
    "test_inputs.shape"
   ]
  },
  {
   "cell_type": "code",
   "execution_count": 6,
   "metadata": {},
   "outputs": [
    {
     "data": {
      "text/plain": [
       "[1,\n",
       " 27595,\n",
       " 28842,\n",
       " 8,\n",
       " 43,\n",
       " 10,\n",
       " 447,\n",
       " 5,\n",
       " 25,\n",
       " 207,\n",
       " 270,\n",
       " 5,\n",
       " 3095,\n",
       " 111,\n",
       " 16,\n",
       " 369,\n",
       " 186,\n",
       " 90,\n",
       " 67,\n",
       " 7,\n",
       " 89,\n",
       " 5,\n",
       " 19,\n",
       " 102,\n",
       " 6,\n",
       " 19,\n",
       " 124,\n",
       " 15,\n",
       " 90,\n",
       " 67,\n",
       " 84,\n",
       " 22,\n",
       " 482,\n",
       " 26,\n",
       " 7,\n",
       " 48,\n",
       " 4,\n",
       " 49,\n",
       " 8,\n",
       " 864,\n",
       " 39,\n",
       " 209,\n",
       " 154,\n",
       " 6,\n",
       " 151,\n",
       " 6,\n",
       " 83,\n",
       " 11,\n",
       " 15,\n",
       " 22,\n",
       " 155,\n",
       " 11,\n",
       " 15,\n",
       " 7,\n",
       " 48,\n",
       " 9,\n",
       " 4579,\n",
       " 1005,\n",
       " 504,\n",
       " 6,\n",
       " 258,\n",
       " 6,\n",
       " 272,\n",
       " 11,\n",
       " 15,\n",
       " 22,\n",
       " 134,\n",
       " 44,\n",
       " 11,\n",
       " 15,\n",
       " 16,\n",
       " 8,\n",
       " 197,\n",
       " 1245,\n",
       " 90,\n",
       " 67,\n",
       " 52,\n",
       " 29,\n",
       " 209,\n",
       " 30,\n",
       " 32,\n",
       " 132,\n",
       " 6,\n",
       " 109,\n",
       " 15,\n",
       " 17,\n",
       " 12]"
      ]
     },
     "execution_count": 6,
     "metadata": {},
     "output_type": "execute_result"
    }
   ],
   "source": [
    "train_inputs[0]"
   ]
  },
  {
   "cell_type": "code",
   "execution_count": 7,
   "metadata": {},
   "outputs": [
    {
     "data": {
      "text/plain": [
       "3"
      ]
     },
     "execution_count": 7,
     "metadata": {},
     "output_type": "execute_result"
    }
   ],
   "source": [
    "train_outputs[0]"
   ]
  },
  {
   "cell_type": "code",
   "execution_count": 8,
   "metadata": {},
   "outputs": [],
   "source": [
    "import numpy as np\n",
    "DIMENSION = 10000\n",
    "\n",
    "\n",
    "def one_hot_encoding(sequences, dimension = DIMENSION):\n",
    "    result = np.zeros((len(sequences), dimension))\n",
    "    for i in range(len(sequences)):\n",
    "        for j in range(len(sequences[i])):\n",
    "            if sequences[i][j] < dimension:\n",
    "                result[i, sequences[i][j]] = 1\n",
    "    return result"
   ]
  },
  {
   "cell_type": "code",
   "execution_count": 9,
   "metadata": {},
   "outputs": [],
   "source": [
    "train_inputs = one_hot_encoding(train_inputs)\n",
    "test_inputs = one_hot_encoding(test_inputs)"
   ]
  },
  {
   "cell_type": "markdown",
   "metadata": {},
   "source": [
    "Set DIMENSION variable as the cutoff for word frequency in the input data; in our case, we consider only the 10000 most common words appearing in our inputs.\n",
    "\n",
    "Transform inputs via one-hot encoding, mapping a list of integers to a vector of length DIMENSION with values 0 or 1 at the k-th entry depending upon the absence or presence of k in our list."
   ]
  },
  {
   "cell_type": "code",
   "execution_count": 10,
   "metadata": {},
   "outputs": [
    {
     "data": {
      "text/plain": [
       "array([0., 1., 0., ..., 0., 0., 0.])"
      ]
     },
     "execution_count": 10,
     "metadata": {},
     "output_type": "execute_result"
    }
   ],
   "source": [
    "train_inputs[0]"
   ]
  },
  {
   "cell_type": "code",
   "execution_count": 11,
   "metadata": {},
   "outputs": [
    {
     "data": {
      "text/plain": [
       "0"
      ]
     },
     "execution_count": 11,
     "metadata": {},
     "output_type": "execute_result"
    }
   ],
   "source": [
    "train_outputs.min(axis = 0)"
   ]
  },
  {
   "cell_type": "code",
   "execution_count": 12,
   "metadata": {},
   "outputs": [
    {
     "data": {
      "text/plain": [
       "45"
      ]
     },
     "execution_count": 12,
     "metadata": {},
     "output_type": "execute_result"
    }
   ],
   "source": [
    "train_outputs.max(axis = 0)"
   ]
  },
  {
   "cell_type": "code",
   "execution_count": 13,
   "metadata": {},
   "outputs": [],
   "source": [
    "from keras.utils import to_categorical"
   ]
  },
  {
   "cell_type": "code",
   "execution_count": 14,
   "metadata": {},
   "outputs": [],
   "source": [
    "train_outputs = to_categorical(train_outputs)\n",
    "test_outputs = to_categorical(test_outputs)"
   ]
  },
  {
   "cell_type": "code",
   "execution_count": 15,
   "metadata": {},
   "outputs": [
    {
     "data": {
      "text/plain": [
       "array([0., 0., 0., 1., 0., 0., 0., 0., 0., 0., 0., 0., 0., 0., 0., 0., 0.,\n",
       "       0., 0., 0., 0., 0., 0., 0., 0., 0., 0., 0., 0., 0., 0., 0., 0., 0.,\n",
       "       0., 0., 0., 0., 0., 0., 0., 0., 0., 0., 0., 0.], dtype=float32)"
      ]
     },
     "execution_count": 15,
     "metadata": {},
     "output_type": "execute_result"
    }
   ],
   "source": [
    "train_outputs[0]"
   ]
  },
  {
   "cell_type": "markdown",
   "metadata": {},
   "source": [
    "Outputs are transformed using the to_categorical utility function, mapping an integral class label k to a vector of length 46 with the k-th entry set to one and the remaining entries set to zero."
   ]
  },
  {
   "cell_type": "code",
   "execution_count": 16,
   "metadata": {},
   "outputs": [],
   "source": [
    "validation_inputs = train_inputs[0 : 3000]\n",
    "reduced_train_inputs = train_inputs[3000 :]"
   ]
  },
  {
   "cell_type": "code",
   "execution_count": 17,
   "metadata": {},
   "outputs": [],
   "source": [
    "validation_outputs = train_outputs[0 : 3000]\n",
    "reduced_train_outputs = train_outputs[3000 :]"
   ]
  },
  {
   "cell_type": "markdown",
   "metadata": {},
   "source": [
    "Set aside 3000 of the 8982 training samples as a validation set. It would be better to draw this collection randomly from our training data, rather than using the sequential approach above."
   ]
  },
  {
   "cell_type": "code",
   "execution_count": 18,
   "metadata": {},
   "outputs": [],
   "source": [
    "from keras import models\n",
    "from keras import layers\n",
    "from keras import regularizers"
   ]
  },
  {
   "cell_type": "code",
   "execution_count": 19,
   "metadata": {},
   "outputs": [],
   "source": [
    "model = models.Sequential()\n",
    "model.add(layers.Dense(64, activation = 'relu', \n",
    "                       kernel_regularizer =  regularizers.l2(.001),\n",
    "                       input_shape = (DIMENSION,)))\n",
    "model.add(layers.Dense(64, activation = 'relu', \n",
    "                      kernel_regularizer= regularizers.l2(.001)))\n",
    "model.add(layers.Dense(46, activation = 'softmax'))"
   ]
  },
  {
   "cell_type": "code",
   "execution_count": 20,
   "metadata": {},
   "outputs": [],
   "source": [
    "model.compile(optimizer = 'rmsprop', \n",
    "              loss = 'categorical_crossentropy', metrics = ['accuracy'])"
   ]
  },
  {
   "cell_type": "markdown",
   "metadata": {},
   "source": [
    "The network is densely connected, with two intermediate layers each having 64 nodes. In each intermediate layer, we use the rectified linear unit ('relu') activation function.\n",
    "\n",
    "Observe the softmax activation function in our final network layer, an appropriate choice for a multiclass classification model. In addition, note the use of the categorical cross-entropy loss function and the accuracy performance metric in the .compile() parameter list.  Other performance metric choices include precision and recall.\n",
    "\n",
    "To combat overfitting, we add regularization terms to the model, which add the norm-squared of layer weight terms to the loss function specified below.  We could instead reduce the network size or add drop-out terms to the network (see e.g. denseNN_binaryclass.ipynb)."
   ]
  },
  {
   "cell_type": "code",
   "execution_count": 21,
   "metadata": {},
   "outputs": [
    {
     "name": "stdout",
     "output_type": "stream",
     "text": [
      "Train on 5982 samples, validate on 3000 samples\n",
      "Epoch 1/20\n",
      "5982/5982 [==============================] - 3s 463us/step - loss: 2.4759 - accuracy: 0.5445 - val_loss: 1.7659 - val_accuracy: 0.6427\n",
      "Epoch 2/20\n",
      "5982/5982 [==============================] - 1s 231us/step - loss: 1.4158 - accuracy: 0.7317 - val_loss: 1.4724 - val_accuracy: 0.7160\n",
      "Epoch 3/20\n",
      "5982/5982 [==============================] - 1s 229us/step - loss: 1.1122 - accuracy: 0.7982 - val_loss: 1.3564 - val_accuracy: 0.7350\n",
      "Epoch 4/20\n",
      "5982/5982 [==============================] - 1s 227us/step - loss: 0.9309 - accuracy: 0.8417 - val_loss: 1.2663 - val_accuracy: 0.7680\n",
      "Epoch 5/20\n",
      "5982/5982 [==============================] - 1s 225us/step - loss: 0.8014 - accuracy: 0.8728 - val_loss: 1.2084 - val_accuracy: 0.7820\n",
      "Epoch 6/20\n",
      "5982/5982 [==============================] - 1s 227us/step - loss: 0.7054 - accuracy: 0.8970 - val_loss: 1.1942 - val_accuracy: 0.7790\n",
      "Epoch 7/20\n",
      "5982/5982 [==============================] - 1s 228us/step - loss: 0.6326 - accuracy: 0.9131 - val_loss: 1.1727 - val_accuracy: 0.7847\n",
      "Epoch 8/20\n",
      "5982/5982 [==============================] - 1s 226us/step - loss: 0.5829 - accuracy: 0.9244 - val_loss: 1.2001 - val_accuracy: 0.7833\n",
      "Epoch 9/20\n",
      "5982/5982 [==============================] - 1s 232us/step - loss: 0.5438 - accuracy: 0.9355 - val_loss: 1.1538 - val_accuracy: 0.7977\n",
      "Epoch 10/20\n",
      "5982/5982 [==============================] - 1s 227us/step - loss: 0.5055 - accuracy: 0.9435 - val_loss: 1.1840 - val_accuracy: 0.7850\n",
      "Epoch 11/20\n",
      "5982/5982 [==============================] - 1s 227us/step - loss: 0.4760 - accuracy: 0.9505 - val_loss: 1.1955 - val_accuracy: 0.7863\n",
      "Epoch 12/20\n",
      "5982/5982 [==============================] - 1s 225us/step - loss: 0.4604 - accuracy: 0.9522 - val_loss: 1.1571 - val_accuracy: 0.7940\n",
      "Epoch 13/20\n",
      "5982/5982 [==============================] - 1s 228us/step - loss: 0.4471 - accuracy: 0.9534 - val_loss: 1.2010 - val_accuracy: 0.7783\n",
      "Epoch 14/20\n",
      "5982/5982 [==============================] - 1s 230us/step - loss: 0.4294 - accuracy: 0.9547 - val_loss: 1.1543 - val_accuracy: 0.7923\n",
      "Epoch 15/20\n",
      "5982/5982 [==============================] - 1s 230us/step - loss: 0.4155 - accuracy: 0.9594 - val_loss: 1.2103 - val_accuracy: 0.7753\n",
      "Epoch 16/20\n",
      "5982/5982 [==============================] - 1s 234us/step - loss: 0.4106 - accuracy: 0.9595 - val_loss: 1.1607 - val_accuracy: 0.7930\n",
      "Epoch 17/20\n",
      "5982/5982 [==============================] - 1s 231us/step - loss: 0.3991 - accuracy: 0.9595 - val_loss: 1.2099 - val_accuracy: 0.7833\n",
      "Epoch 18/20\n",
      "5982/5982 [==============================] - 1s 233us/step - loss: 0.3917 - accuracy: 0.9595 - val_loss: 1.1730 - val_accuracy: 0.7923\n",
      "Epoch 19/20\n",
      "5982/5982 [==============================] - 1s 234us/step - loss: 0.3856 - accuracy: 0.9604 - val_loss: 1.1844 - val_accuracy: 0.7853\n",
      "Epoch 20/20\n",
      "5982/5982 [==============================] - 1s 237us/step - loss: 0.3831 - accuracy: 0.9617 - val_loss: 1.2294 - val_accuracy: 0.7773\n"
     ]
    }
   ],
   "source": [
    "EPOCHS = 20\n",
    "\n",
    "outcome = model.fit(reduced_train_inputs, reduced_train_outputs, epochs = EPOCHS, batch_size = 256,\n",
    "         validation_data = (validation_inputs, validation_outputs))"
   ]
  },
  {
   "cell_type": "code",
   "execution_count": 22,
   "metadata": {},
   "outputs": [
    {
     "data": {
      "text/plain": [
       "dict_keys(['val_loss', 'val_accuracy', 'loss', 'accuracy'])"
      ]
     },
     "execution_count": 22,
     "metadata": {},
     "output_type": "execute_result"
    }
   ],
   "source": [
    "outcome.history.keys()"
   ]
  },
  {
   "cell_type": "code",
   "execution_count": 23,
   "metadata": {},
   "outputs": [],
   "source": [
    "epochs = range(1, EPOCHS + 1)\n",
    "accuracy = outcome.history.get('accuracy')\n",
    "val_accuracy = outcome.history.get('val_accuracy')"
   ]
  },
  {
   "cell_type": "code",
   "execution_count": 24,
   "metadata": {},
   "outputs": [],
   "source": [
    "import matplotlib.pyplot as plt"
   ]
  },
  {
   "cell_type": "code",
   "execution_count": 25,
   "metadata": {},
   "outputs": [
    {
     "data": {
      "image/png": "[encoded data removed]",
      "text/plain": [
       "<Figure size 432x288 with 1 Axes>"
      ]
     },
     "metadata": {
      "needs_background": "light"
     },
     "output_type": "display_data"
    }
   ],
   "source": [
    "plt.plot(epochs, accuracy, 'bo', label = 'Training Accuracy')\n",
    "plt.plot(epochs, val_accuracy, 'b', label = 'Validation Accuracy')\n",
    "plt.title('Training and Validation Accuracy')\n",
    "plt.xlabel('Epoch')\n",
    "plt.ylabel('Accuracy')\n",
    "plt.legend()\n",
    "plt.show()"
   ]
  },
  {
   "cell_type": "markdown",
   "metadata": {},
   "source": [
    "The plot above shows a monotonic increase in training accuracy and an increase and mild decline in validation accuracy.  This behavior can also be seen in the callbacks generated by the .fit() method above.  The model appears to be overfitting the training data as we iterate over more and more epochs.  One way to combat this overfitting is to partially train the model, halting training at an early epoch (say, the eleventh epoch).  Further steps beyond this early stopping and our earlier use of regularization include adding drop-out terms to the network (see e.g. denseNN_binaryclass.ipynb) or decreasing the network size.  "
   ]
  },
  {
   "cell_type": "code",
   "execution_count": 26,
   "metadata": {},
   "outputs": [
    {
     "name": "stdout",
     "output_type": "stream",
     "text": [
      "2246/2246 [==============================] - 1s 253us/step\n"
     ]
    },
    {
     "data": {
      "text/plain": [
       "[1.2623141102778095, 0.7689225077629089]"
      ]
     },
     "execution_count": 26,
     "metadata": {},
     "output_type": "execute_result"
    }
   ],
   "source": [
    "model.evaluate(test_inputs, test_outputs)"
   ]
  },
  {
   "cell_type": "code",
   "execution_count": null,
   "metadata": {},
   "outputs": [],
   "source": []
  }
 ],
 "metadata": {
  "kernelspec": {
   "display_name": "Python [conda env:venv] *",
   "language": "python",
   "name": "conda-env-venv-py"
  },
  "language_info": {
   "codemirror_mode": {
    "name": "ipython",
    "version": 3
   },
   "file_extension": ".py",
   "mimetype": "text/x-python",
   "name": "python",
   "nbconvert_exporter": "python",
   "pygments_lexer": "ipython3",
   "version": "3.6.3"
  }
 },
 "nbformat": 4,
 "nbformat_minor": 2
}
