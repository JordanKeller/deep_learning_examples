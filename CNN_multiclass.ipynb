{
 "cells": [
  {
   "cell_type": "code",
   "execution_count": 1,
   "metadata": {},
   "outputs": [
    {
     "name": "stderr",
     "output_type": "stream",
     "text": [
      "Using TensorFlow backend.\n"
     ]
    }
   ],
   "source": [
    "import keras"
   ]
  },
  {
   "cell_type": "code",
   "execution_count": 2,
   "metadata": {},
   "outputs": [],
   "source": [
    "from keras.datasets import mnist"
   ]
  },
  {
   "cell_type": "markdown",
   "metadata": {},
   "source": [
    "Loaded MNIST dataset consisting of 70000 images of handwritten digits (0 through 9), split into 60000 training samples and 10000 test samples.  The input is 28 x 28 greyscale image with saturation values ranging between 0 and 255, and the output is the digit represented (0 through 9).  "
   ]
  },
  {
   "cell_type": "code",
   "execution_count": 3,
   "metadata": {},
   "outputs": [],
   "source": [
    "(train_inputs, train_outputs), (test_inputs, test_outputs) = mnist.load_data()"
   ]
  },
  {
   "cell_type": "code",
   "execution_count": 4,
   "metadata": {},
   "outputs": [
    {
     "data": {
      "text/plain": [
       "(60000, 28, 28)"
      ]
     },
     "execution_count": 4,
     "metadata": {},
     "output_type": "execute_result"
    }
   ],
   "source": [
    "train_inputs.shape"
   ]
  },
  {
   "cell_type": "code",
   "execution_count": 5,
   "metadata": {},
   "outputs": [
    {
     "data": {
      "text/plain": [
       "(10000, 28, 28)"
      ]
     },
     "execution_count": 5,
     "metadata": {},
     "output_type": "execute_result"
    }
   ],
   "source": [
    "test_inputs.shape"
   ]
  },
  {
   "cell_type": "code",
   "execution_count": 6,
   "metadata": {},
   "outputs": [
    {
     "data": {
      "text/plain": [
       "array([5, 0, 4, 1, 9], dtype=uint8)"
      ]
     },
     "execution_count": 6,
     "metadata": {},
     "output_type": "execute_result"
    }
   ],
   "source": [
    "train_outputs[0: 5]"
   ]
  },
  {
   "cell_type": "code",
   "execution_count": 7,
   "metadata": {},
   "outputs": [
    {
     "data": {
      "text/plain": [
       "array([[  0,   0,   0,   0,   0,   0,   0,   0,   0,   0,   0,   0,   0,\n",
       "          0,   0,   0,   0,   0,   0,   0,   0,   0,   0,   0,   0,   0,\n",
       "          0,   0],\n",
       "       [  0,   0,   0,   0,   0,   0,   0,   0,   0,   0,   0,   0,   0,\n",
       "          0,   0,   0,   0,   0,   0,   0,   0,   0,   0,   0,   0,   0,\n",
       "          0,   0],\n",
       "       [  0,   0,   0,   0,   0,   0,   0,   0,   0,   0,   0,   0,   0,\n",
       "          0,   0,   0,   0,   0,   0,   0,   0,   0,   0,   0,   0,   0,\n",
       "          0,   0],\n",
       "       [  0,   0,   0,   0,   0,   0,   0,   0,   0,   0,   0,   0,   0,\n",
       "          0,   0,   0,   0,   0,   0,   0,   0,   0,   0,   0,   0,   0,\n",
       "          0,   0],\n",
       "       [  0,   0,   0,   0,   0,   0,   0,   0,   0,   0,   0,   0,   0,\n",
       "          0,   0,   0,   0,   0,   0,   0,   0,   0,   0,   0,   0,   0,\n",
       "          0,   0],\n",
       "       [  0,   0,   0,   0,   0,   0,   0,   0,   0,   0,   0,   0,   3,\n",
       "         18,  18,  18, 126, 136, 175,  26, 166, 255, 247, 127,   0,   0,\n",
       "          0,   0],\n",
       "       [  0,   0,   0,   0,   0,   0,   0,   0,  30,  36,  94, 154, 170,\n",
       "        253, 253, 253, 253, 253, 225, 172, 253, 242, 195,  64,   0,   0,\n",
       "          0,   0],\n",
       "       [  0,   0,   0,   0,   0,   0,   0,  49, 238, 253, 253, 253, 253,\n",
       "        253, 253, 253, 253, 251,  93,  82,  82,  56,  39,   0,   0,   0,\n",
       "          0,   0],\n",
       "       [  0,   0,   0,   0,   0,   0,   0,  18, 219, 253, 253, 253, 253,\n",
       "        253, 198, 182, 247, 241,   0,   0,   0,   0,   0,   0,   0,   0,\n",
       "          0,   0],\n",
       "       [  0,   0,   0,   0,   0,   0,   0,   0,  80, 156, 107, 253, 253,\n",
       "        205,  11,   0,  43, 154,   0,   0,   0,   0,   0,   0,   0,   0,\n",
       "          0,   0],\n",
       "       [  0,   0,   0,   0,   0,   0,   0,   0,   0,  14,   1, 154, 253,\n",
       "         90,   0,   0,   0,   0,   0,   0,   0,   0,   0,   0,   0,   0,\n",
       "          0,   0],\n",
       "       [  0,   0,   0,   0,   0,   0,   0,   0,   0,   0,   0, 139, 253,\n",
       "        190,   2,   0,   0,   0,   0,   0,   0,   0,   0,   0,   0,   0,\n",
       "          0,   0],\n",
       "       [  0,   0,   0,   0,   0,   0,   0,   0,   0,   0,   0,  11, 190,\n",
       "        253,  70,   0,   0,   0,   0,   0,   0,   0,   0,   0,   0,   0,\n",
       "          0,   0],\n",
       "       [  0,   0,   0,   0,   0,   0,   0,   0,   0,   0,   0,   0,  35,\n",
       "        241, 225, 160, 108,   1,   0,   0,   0,   0,   0,   0,   0,   0,\n",
       "          0,   0],\n",
       "       [  0,   0,   0,   0,   0,   0,   0,   0,   0,   0,   0,   0,   0,\n",
       "         81, 240, 253, 253, 119,  25,   0,   0,   0,   0,   0,   0,   0,\n",
       "          0,   0],\n",
       "       [  0,   0,   0,   0,   0,   0,   0,   0,   0,   0,   0,   0,   0,\n",
       "          0,  45, 186, 253, 253, 150,  27,   0,   0,   0,   0,   0,   0,\n",
       "          0,   0],\n",
       "       [  0,   0,   0,   0,   0,   0,   0,   0,   0,   0,   0,   0,   0,\n",
       "          0,   0,  16,  93, 252, 253, 187,   0,   0,   0,   0,   0,   0,\n",
       "          0,   0],\n",
       "       [  0,   0,   0,   0,   0,   0,   0,   0,   0,   0,   0,   0,   0,\n",
       "          0,   0,   0,   0, 249, 253, 249,  64,   0,   0,   0,   0,   0,\n",
       "          0,   0],\n",
       "       [  0,   0,   0,   0,   0,   0,   0,   0,   0,   0,   0,   0,   0,\n",
       "          0,  46, 130, 183, 253, 253, 207,   2,   0,   0,   0,   0,   0,\n",
       "          0,   0],\n",
       "       [  0,   0,   0,   0,   0,   0,   0,   0,   0,   0,   0,   0,  39,\n",
       "        148, 229, 253, 253, 253, 250, 182,   0,   0,   0,   0,   0,   0,\n",
       "          0,   0],\n",
       "       [  0,   0,   0,   0,   0,   0,   0,   0,   0,   0,  24, 114, 221,\n",
       "        253, 253, 253, 253, 201,  78,   0,   0,   0,   0,   0,   0,   0,\n",
       "          0,   0],\n",
       "       [  0,   0,   0,   0,   0,   0,   0,   0,  23,  66, 213, 253, 253,\n",
       "        253, 253, 198,  81,   2,   0,   0,   0,   0,   0,   0,   0,   0,\n",
       "          0,   0],\n",
       "       [  0,   0,   0,   0,   0,   0,  18, 171, 219, 253, 253, 253, 253,\n",
       "        195,  80,   9,   0,   0,   0,   0,   0,   0,   0,   0,   0,   0,\n",
       "          0,   0],\n",
       "       [  0,   0,   0,   0,  55, 172, 226, 253, 253, 253, 253, 244, 133,\n",
       "         11,   0,   0,   0,   0,   0,   0,   0,   0,   0,   0,   0,   0,\n",
       "          0,   0],\n",
       "       [  0,   0,   0,   0, 136, 253, 253, 253, 212, 135, 132,  16,   0,\n",
       "          0,   0,   0,   0,   0,   0,   0,   0,   0,   0,   0,   0,   0,\n",
       "          0,   0],\n",
       "       [  0,   0,   0,   0,   0,   0,   0,   0,   0,   0,   0,   0,   0,\n",
       "          0,   0,   0,   0,   0,   0,   0,   0,   0,   0,   0,   0,   0,\n",
       "          0,   0],\n",
       "       [  0,   0,   0,   0,   0,   0,   0,   0,   0,   0,   0,   0,   0,\n",
       "          0,   0,   0,   0,   0,   0,   0,   0,   0,   0,   0,   0,   0,\n",
       "          0,   0],\n",
       "       [  0,   0,   0,   0,   0,   0,   0,   0,   0,   0,   0,   0,   0,\n",
       "          0,   0,   0,   0,   0,   0,   0,   0,   0,   0,   0,   0,   0,\n",
       "          0,   0]], dtype=uint8)"
      ]
     },
     "execution_count": 7,
     "metadata": {},
     "output_type": "execute_result"
    }
   ],
   "source": [
    "train_inputs[0]"
   ]
  },
  {
   "cell_type": "code",
   "execution_count": 8,
   "metadata": {},
   "outputs": [],
   "source": [
    "train_inputs = train_inputs / 255\n",
    "test_inputs = test_inputs / 255"
   ]
  },
  {
   "cell_type": "code",
   "execution_count": 9,
   "metadata": {},
   "outputs": [],
   "source": [
    "train_inputs = train_inputs.reshape((-1, 28, 28, 1))\n",
    "test_inputs = test_inputs.reshape((-1, 28, 28, 1))"
   ]
  },
  {
   "cell_type": "code",
   "execution_count": 10,
   "metadata": {},
   "outputs": [
    {
     "data": {
      "text/plain": [
       "(60000, 28, 28, 1)"
      ]
     },
     "execution_count": 10,
     "metadata": {},
     "output_type": "execute_result"
    }
   ],
   "source": [
    "train_inputs.shape"
   ]
  },
  {
   "cell_type": "markdown",
   "metadata": {},
   "source": [
    "Scale inputs so that pixel saturation values lie between 0 and 1, then convert each sample to the standard (width, height, depth) format used by CNNs in keras."
   ]
  },
  {
   "cell_type": "code",
   "execution_count": 11,
   "metadata": {},
   "outputs": [],
   "source": [
    "from keras.utils import to_categorical"
   ]
  },
  {
   "cell_type": "code",
   "execution_count": 12,
   "metadata": {},
   "outputs": [],
   "source": [
    "train_outputs = to_categorical(train_outputs)\n",
    "test_outputs = to_categorical(test_outputs)"
   ]
  },
  {
   "cell_type": "code",
   "execution_count": 13,
   "metadata": {},
   "outputs": [
    {
     "data": {
      "text/plain": [
       "array([0., 0., 0., 0., 0., 1., 0., 0., 0., 0.], dtype=float32)"
      ]
     },
     "execution_count": 13,
     "metadata": {},
     "output_type": "execute_result"
    }
   ],
   "source": [
    "train_outputs[0]"
   ]
  },
  {
   "cell_type": "markdown",
   "metadata": {},
   "source": [
    "Outputs are transformed using the to_categorical utility function, mapping a digit k to a vector of length 10 with the k-th entry set to one and the remaining entries set to zero."
   ]
  },
  {
   "cell_type": "code",
   "execution_count": 14,
   "metadata": {},
   "outputs": [],
   "source": [
    "validation_inputs = train_inputs[0 : 15000]\n",
    "validation_outputs = train_outputs[0 : 15000]"
   ]
  },
  {
   "cell_type": "code",
   "execution_count": 15,
   "metadata": {},
   "outputs": [],
   "source": [
    "reduced_train_inputs = train_inputs[15000 :]\n",
    "reduced_train_outputs = train_outputs[15000 :]"
   ]
  },
  {
   "cell_type": "markdown",
   "metadata": {},
   "source": [
    "Set aside 15000 of the 60000 training samples as a validation set.  It would be better to draw this collection randomly from our training data, rather than using the sequential approach above."
   ]
  },
  {
   "cell_type": "code",
   "execution_count": 16,
   "metadata": {},
   "outputs": [],
   "source": [
    "from keras import models\n",
    "from keras import layers"
   ]
  },
  {
   "cell_type": "code",
   "execution_count": 17,
   "metadata": {},
   "outputs": [],
   "source": [
    "model = models.Sequential()\n",
    "model.add(layers.Conv2D(32, 3, activation = 'relu', input_shape = (28, 28, 1, )))\n",
    "model.add(layers.MaxPooling2D(2))\n",
    "model.add(layers.Conv2D(64, 3, activation = 'relu'))\n",
    "model.add(layers.MaxPooling2D(2))\n",
    "model.add(layers.Conv2D(64, 3, activation = 'relu'))\n",
    "model.add(layers.Flatten())\n",
    "model.add(layers.Dense(64, activation = 'relu'))\n",
    "model.add(layers.Dense(10, activation = 'softmax'))"
   ]
  },
  {
   "cell_type": "code",
   "execution_count": 18,
   "metadata": {},
   "outputs": [],
   "source": [
    "model.compile(optimizer = 'rmsprop', loss = 'categorical_crossentropy',\n",
    "             metrics = ['accuracy'])"
   ]
  },
  {
   "cell_type": "markdown",
   "metadata": {},
   "source": [
    "Observe the softmax activation function in our final network layer, an appropriate choice for a multiclass classification model. In addition, note the use of the categorical cross-entropy loss function and the accuracy performance metric in the .compile() parameter list.  Other performance metric choices include precision and recall."
   ]
  },
  {
   "cell_type": "code",
   "execution_count": 19,
   "metadata": {},
   "outputs": [
    {
     "name": "stdout",
     "output_type": "stream",
     "text": [
      "Train on 45000 samples, validate on 15000 samples\n",
      "Epoch 1/20\n",
      "45000/45000 [==============================] - 38s 834us/step - loss: 0.6604 - accuracy: 0.7894 - val_loss: 0.2498 - val_accuracy: 0.9246\n",
      "Epoch 2/20\n",
      "45000/45000 [==============================] - 35s 776us/step - loss: 0.1635 - accuracy: 0.9504 - val_loss: 0.1016 - val_accuracy: 0.9703\n",
      "Epoch 3/20\n",
      "45000/45000 [==============================] - 35s 775us/step - loss: 0.0924 - accuracy: 0.9712 - val_loss: 0.0917 - val_accuracy: 0.9705\n",
      "Epoch 4/20\n",
      "45000/45000 [==============================] - 35s 785us/step - loss: 0.0677 - accuracy: 0.9787 - val_loss: 0.0609 - val_accuracy: 0.9817\n",
      "Epoch 5/20\n",
      "45000/45000 [==============================] - 35s 783us/step - loss: 0.0502 - accuracy: 0.9842 - val_loss: 0.0536 - val_accuracy: 0.9832\n",
      "Epoch 6/20\n",
      "45000/45000 [==============================] - 35s 778us/step - loss: 0.0430 - accuracy: 0.9862 - val_loss: 0.0657 - val_accuracy: 0.9806\n",
      "Epoch 7/20\n",
      "45000/45000 [==============================] - 35s 767us/step - loss: 0.0340 - accuracy: 0.9894 - val_loss: 0.0405 - val_accuracy: 0.9880\n",
      "Epoch 8/20\n",
      "45000/45000 [==============================] - 34s 748us/step - loss: 0.0285 - accuracy: 0.9910 - val_loss: 0.0605 - val_accuracy: 0.9837\n",
      "Epoch 9/20\n",
      "45000/45000 [==============================] - 34s 749us/step - loss: 0.0235 - accuracy: 0.9925 - val_loss: 0.0385 - val_accuracy: 0.9888\n",
      "Epoch 10/20\n",
      "45000/45000 [==============================] - 34s 746us/step - loss: 0.0206 - accuracy: 0.9934 - val_loss: 0.0397 - val_accuracy: 0.9887\n",
      "Epoch 11/20\n",
      "45000/45000 [==============================] - 34s 747us/step - loss: 0.0173 - accuracy: 0.9948 - val_loss: 0.0380 - val_accuracy: 0.9895\n",
      "Epoch 12/20\n",
      "45000/45000 [==============================] - 34s 745us/step - loss: 0.0154 - accuracy: 0.9952 - val_loss: 0.0338 - val_accuracy: 0.9916\n",
      "Epoch 13/20\n",
      "45000/45000 [==============================] - 34s 748us/step - loss: 0.0131 - accuracy: 0.9961 - val_loss: 0.0424 - val_accuracy: 0.9889\n",
      "Epoch 14/20\n",
      "45000/45000 [==============================] - 34s 748us/step - loss: 0.0115 - accuracy: 0.9965 - val_loss: 0.0417 - val_accuracy: 0.9895\n",
      "Epoch 15/20\n",
      "45000/45000 [==============================] - 34s 762us/step - loss: 0.0097 - accuracy: 0.9971 - val_loss: 0.0351 - val_accuracy: 0.9913\n",
      "Epoch 16/20\n",
      "45000/45000 [==============================] - 34s 747us/step - loss: 0.0084 - accuracy: 0.9977 - val_loss: 0.0449 - val_accuracy: 0.9902\n",
      "Epoch 17/20\n",
      "45000/45000 [==============================] - 34s 753us/step - loss: 0.0076 - accuracy: 0.9974 - val_loss: 0.0379 - val_accuracy: 0.9911\n",
      "Epoch 18/20\n",
      "45000/45000 [==============================] - 34s 760us/step - loss: 0.0066 - accuracy: 0.9979 - val_loss: 0.0410 - val_accuracy: 0.9914\n",
      "Epoch 19/20\n",
      "45000/45000 [==============================] - 34s 759us/step - loss: 0.0057 - accuracy: 0.9983 - val_loss: 0.0441 - val_accuracy: 0.9913\n",
      "Epoch 20/20\n",
      "45000/45000 [==============================] - 35s 774us/step - loss: 0.0047 - accuracy: 0.9984 - val_loss: 0.0395 - val_accuracy: 0.9923\n"
     ]
    }
   ],
   "source": [
    "EPOCHS = 20\n",
    "\n",
    "outcome = model.fit(reduced_train_inputs, reduced_train_outputs, \n",
    "          batch_size = 512, epochs = EPOCHS, \n",
    "          validation_data = (validation_inputs, validation_outputs))"
   ]
  },
  {
   "cell_type": "code",
   "execution_count": 20,
   "metadata": {},
   "outputs": [
    {
     "data": {
      "text/plain": [
       "dict_keys(['val_loss', 'val_accuracy', 'loss', 'accuracy'])"
      ]
     },
     "execution_count": 20,
     "metadata": {},
     "output_type": "execute_result"
    }
   ],
   "source": [
    "outcome.history.keys()"
   ]
  },
  {
   "cell_type": "code",
   "execution_count": 25,
   "metadata": {},
   "outputs": [],
   "source": [
    "epochs = range(1, EPOCHS + 1)\n",
    "accuracy = outcome.history.get('accuracy')\n",
    "val_accuracy = outcome.history.get('val_accuracy')"
   ]
  },
  {
   "cell_type": "code",
   "execution_count": 22,
   "metadata": {},
   "outputs": [],
   "source": [
    "import matplotlib.pyplot as plt"
   ]
  },
  {
   "cell_type": "code",
   "execution_count": 26,
   "metadata": {},
   "outputs": [
    {
     "data": {
      "image/png": "[encoded data removed]",
      "text/plain": [
       "<Figure size 432x288 with 1 Axes>"
      ]
     },
     "metadata": {
      "needs_background": "light"
     },
     "output_type": "display_data"
    }
   ],
   "source": [
    "plt.plot(epochs, accuracy, 'bo', label = 'Training Accuracy')\n",
    "plt.plot(epochs, val_accuracy, 'b', label = 'Validation Accuracy')\n",
    "plt.title('Training and Validation Accuracy')\n",
    "plt.xlabel('Epoch')\n",
    "plt.ylabel('Accuracy')\n",
    "plt.legend()\n",
    "plt.show()"
   ]
  },
  {
   "cell_type": "markdown",
   "metadata": {},
   "source": [
    "The plot above shows an increase in both training and validation accuracy over successive epochs.   This behavior can also be seen in the callbacks generated by the .fit() method above.  Ideally, we would train the model for more epochs, until validation accuracy peaked and began to decline (i.e., up to the onset of model overfitting).  We could then combat this overfitting by partially training the model, halting training at an early epoch (say, the twentieth).  We might also reduce overfitting by adding regularization terms to the loss function (see e.g. denseNN_multiclass.ipynb), adding drop-out terms to the network (see e.g. denseNN_binary.ipynb), or decreasing the network size.  "
   ]
  },
  {
   "cell_type": "code",
   "execution_count": null,
   "metadata": {},
   "outputs": [],
   "source": []
  }
 ],
 "metadata": {
  "kernelspec": {
   "display_name": "Python [conda env:venv] *",
   "language": "python",
   "name": "conda-env-venv-py"
  },
  "language_info": {
   "codemirror_mode": {
    "name": "ipython",
    "version": 3
   },
   "file_extension": ".py",
   "mimetype": "text/x-python",
   "name": "python",
   "nbconvert_exporter": "python",
   "pygments_lexer": "ipython3",
   "version": "3.6.3"
  }
 },
 "nbformat": 4,
 "nbformat_minor": 2
}
